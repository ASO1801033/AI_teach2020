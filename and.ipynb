{
  "nbformat": 4,
  "nbformat_minor": 0,
  "metadata": {
    "colab": {
      "name": "and.ipynb",
      "provenance": [],
      "authorship_tag": "ABX9TyOLJrdzNJtMvJ9iQAyTVGu0",
      "include_colab_link": true
    },
    "kernelspec": {
      "name": "python3",
      "display_name": "Python 3"
    }
  },
  "cells": [
    {
      "cell_type": "markdown",
      "metadata": {
        "id": "view-in-github",
        "colab_type": "text"
      },
      "source": [
        "<a href=\"https://colab.research.google.com/github/ASO1801033/AI_teach2020/blob/master/and.ipynb\" target=\"_parent\"><img src=\"https://colab.research.google.com/assets/colab-badge.svg\" alt=\"Open In Colab\"/></a>"
      ]
    },
    {
      "cell_type": "markdown",
      "metadata": {
        "id": "M69DPS8wu3G4"
      },
      "source": [
        "### AND演算をモデルに学ばせる（LinearSVC）"
      ]
    },
    {
      "cell_type": "code",
      "metadata": {
        "id": "pVdIAXEavJHP",
        "outputId": "de671d95-f997-4809-f08a-cbd3e38b194e",
        "colab": {
          "base_uri": "https://localhost:8080/",
          "height": 130
        }
      },
      "source": [
        "# scikit-learnを使うため、インポート\n",
        "from sklearn.svm import LinearSVC　# 線形SVCのオブジェクト\n",
        "from sklearn.metrics import accuracy_score # 結果を評価するためのオブジェクト"
      ],
      "execution_count": 1,
      "outputs": [
        {
          "output_type": "error",
          "ename": "SyntaxError",
          "evalue": "ignored",
          "traceback": [
            "\u001b[0;36m  File \u001b[0;32m\"<ipython-input-1-a594ad01a48c>\"\u001b[0;36m, line \u001b[0;32m2\u001b[0m\n\u001b[0;31m    from sklearn.svm import LinearSVC　# 線形SVCのオブジェクト\u001b[0m\n\u001b[0m                                     ^\u001b[0m\n\u001b[0;31mSyntaxError\u001b[0m\u001b[0;31m:\u001b[0m invalid character in identifier\n"
          ]
        }
      ]
    },
    {
      "cell_type": "markdown",
      "metadata": {
        "id": "axJRDgMOvwZF"
      },
      "source": [
        "### 学習のためのデータを用意する"
      ]
    },
    {
      "cell_type": "code",
      "metadata": {
        "id": "bI9QMYWovzkF"
      },
      "source": [
        "# 入力値をあらわすデータ\n",
        "# 入力X,　入力Y\n",
        "learn_data = [ [0, 0], [1, 0], [0, 1], [1, 1] ]\n",
        "# （XとYのand）結果\n",
        "learn_label = [ 0, 0, 0, 1 ]"
      ],
      "execution_count": 2,
      "outputs": []
    },
    {
      "cell_type": "markdown",
      "metadata": {
        "id": "_w2k54T5wlRs"
      },
      "source": [
        "### アルゴリズムのインスタンスを生成"
      ]
    },
    {
      "cell_type": "code",
      "metadata": {
        "id": "ZDpjWWaHwqYZ",
        "outputId": "3e73f48c-7075-4421-dfe7-de4b701cd55c",
        "colab": {
          "base_uri": "https://localhost:8080/",
          "height": 181
        }
      },
      "source": [
        "# 線形SVCのインスタンスを生成（ = モデル）\n",
        "clf = LinearSVC()"
      ],
      "execution_count": 3,
      "outputs": [
        {
          "output_type": "error",
          "ename": "NameError",
          "evalue": "ignored",
          "traceback": [
            "\u001b[0;31m---------------------------------------------------------------------------\u001b[0m",
            "\u001b[0;31mNameError\u001b[0m                                 Traceback (most recent call last)",
            "\u001b[0;32m<ipython-input-3-327d4ebb1c4b>\u001b[0m in \u001b[0;36m<module>\u001b[0;34m()\u001b[0m\n\u001b[1;32m      1\u001b[0m \u001b[0;31m# 線形SVCのインスタンスを生成（ = モデル）\u001b[0m\u001b[0;34m\u001b[0m\u001b[0;34m\u001b[0m\u001b[0;34m\u001b[0m\u001b[0m\n\u001b[0;32m----> 2\u001b[0;31m \u001b[0mclf\u001b[0m \u001b[0;34m=\u001b[0m \u001b[0mLinearSVC\u001b[0m\u001b[0;34m(\u001b[0m\u001b[0;34m)\u001b[0m\u001b[0;34m\u001b[0m\u001b[0;34m\u001b[0m\u001b[0m\n\u001b[0m",
            "\u001b[0;31mNameError\u001b[0m: name 'LinearSVC' is not defined"
          ]
        }
      ]
    },
    {
      "cell_type": "markdown",
      "metadata": {
        "id": "7uu8OvpgxDmr"
      },
      "source": [
        "### インスタンスに学習させる（fitメソッド）"
      ]
    },
    {
      "cell_type": "code",
      "metadata": {
        "id": "aGPqcoxyxP2J"
      },
      "source": [
        "clf.fit( learn_data, learn_label )"
      ],
      "execution_count": null,
      "outputs": []
    },
    {
      "cell_type": "markdown",
      "metadata": {
        "id": "0WuHuYtXzG1h"
      },
      "source": [
        "### モデルがちゃんと学習できたかテストデータで予測させてみる"
      ]
    },
    {
      "cell_type": "code",
      "metadata": {
        "id": "X8a_XQbmzMi-"
      },
      "source": [
        "# 予測用のテストデータ（検証データ）を作る\n",
        "test_data = [ [0, 0], [1, 0], [0, 1], [1, 1] ]\n",
        "# モデルにテストデータを回答させる（予測）予測のメソッドはpredict\n",
        "test_label = clf.predict( test_data )\n",
        "print( test_label )\n",
        "# 予測結果の評価\n",
        "print(test_data, \"の予測結果\", test_label)\n",
        "# 結果の精度を表示させる\n",
        "print(\"正解率 = \", accuracy_score([0, 0, 0, 1], test_label))"
      ],
      "execution_count": null,
      "outputs": []
    },
    {
      "cell_type": "markdown",
      "metadata": {
        "id": "ie8xxidLYOHL"
      },
      "source": [
        "### XOR演算を実装する"
      ]
    },
    {
      "cell_type": "code",
      "metadata": {
        "id": "RywbrzWIYR2F"
      },
      "source": [
        "# XOR演算を学習するためのデータを用意する\n",
        "# X, Yの順\n",
        "learn_data = [ [0, 0], [1, 0], [0, 1], [1, 1] ]\n",
        "# X xor Y の結果正解データ（学習ラベル）\n",
        "learn_label = [ 0, 1, 1, 0 ]"
      ],
      "execution_count": null,
      "outputs": []
    },
    {
      "cell_type": "code",
      "metadata": {
        "id": "pjw8tkdkkP_T"
      },
      "source": [
        "# 学習モデルのインスタンスを作る（LinearSVC）\n",
        "clf = LinearSVC()\n",
        "# 学習させる\n",
        "clf.fit( learn_data, learn_label )"
      ],
      "execution_count": null,
      "outputs": []
    },
    {
      "cell_type": "code",
      "metadata": {
        "id": "Vp10DycOk1kI",
        "outputId": "66d1fca3-cefe-4306-b39b-a3414f6f40ce",
        "colab": {
          "base_uri": "https://localhost:8080/",
          "height": 198
        }
      },
      "source": [
        "# 学習モデルに推論させる\n",
        "test_data = [ [0, 0], [1, 0], [0, 1], [1, 1] ]\n",
        "test_label = clf.predict(test_data)"
      ],
      "execution_count": 4,
      "outputs": [
        {
          "output_type": "error",
          "ename": "NameError",
          "evalue": "ignored",
          "traceback": [
            "\u001b[0;31m---------------------------------------------------------------------------\u001b[0m",
            "\u001b[0;31mNameError\u001b[0m                                 Traceback (most recent call last)",
            "\u001b[0;32m<ipython-input-4-5fd2d06d23b9>\u001b[0m in \u001b[0;36m<module>\u001b[0;34m()\u001b[0m\n\u001b[1;32m      1\u001b[0m \u001b[0;31m# 学習モデルに推論させる\u001b[0m\u001b[0;34m\u001b[0m\u001b[0;34m\u001b[0m\u001b[0;34m\u001b[0m\u001b[0m\n\u001b[1;32m      2\u001b[0m \u001b[0mtest_data\u001b[0m \u001b[0;34m=\u001b[0m \u001b[0;34m[\u001b[0m \u001b[0;34m[\u001b[0m\u001b[0;36m0\u001b[0m\u001b[0;34m,\u001b[0m \u001b[0;36m0\u001b[0m\u001b[0;34m]\u001b[0m\u001b[0;34m,\u001b[0m \u001b[0;34m[\u001b[0m\u001b[0;36m1\u001b[0m\u001b[0;34m,\u001b[0m \u001b[0;36m0\u001b[0m\u001b[0;34m]\u001b[0m\u001b[0;34m,\u001b[0m \u001b[0;34m[\u001b[0m\u001b[0;36m0\u001b[0m\u001b[0;34m,\u001b[0m \u001b[0;36m1\u001b[0m\u001b[0;34m]\u001b[0m\u001b[0;34m,\u001b[0m \u001b[0;34m[\u001b[0m\u001b[0;36m1\u001b[0m\u001b[0;34m,\u001b[0m \u001b[0;36m1\u001b[0m\u001b[0;34m]\u001b[0m \u001b[0;34m]\u001b[0m\u001b[0;34m\u001b[0m\u001b[0;34m\u001b[0m\u001b[0m\n\u001b[0;32m----> 3\u001b[0;31m \u001b[0mtest_label\u001b[0m \u001b[0;34m=\u001b[0m \u001b[0mclf\u001b[0m\u001b[0;34m.\u001b[0m\u001b[0mpredict\u001b[0m\u001b[0;34m(\u001b[0m\u001b[0mtest_data\u001b[0m\u001b[0;34m)\u001b[0m\u001b[0;34m\u001b[0m\u001b[0;34m\u001b[0m\u001b[0m\n\u001b[0m",
            "\u001b[0;31mNameError\u001b[0m: name 'clf' is not defined"
          ]
        }
      ]
    },
    {
      "cell_type": "code",
      "metadata": {
        "id": "ztiTx3TXNxk4"
      },
      "source": [
        "# 結果を検証する\n",
        "print(test_data, \"の予測結果\", test_label)\n",
        "print(\"正解率　= \", accuracy_score([0, 0, 0, 1], test_label))"
      ],
      "execution_count": null,
      "outputs": []
    },
    {
      "cell_type": "markdown",
      "metadata": {
        "id": "rDtZmI16aLwa"
      },
      "source": [
        "### K近傍法でXOR演算を実装する"
      ]
    },
    {
      "cell_type": "code",
      "metadata": {
        "id": "SGEfK621aQoh"
      },
      "source": [
        "# K近傍法のアルゴリズムのクラスをimport\n",
        "from sklearn.neighbors import KNeighborsClassifier"
      ],
      "execution_count": null,
      "outputs": []
    },
    {
      "cell_type": "code",
      "metadata": {
        "id": "GEfVB7F1aaxi"
      },
      "source": [
        "# 学習モデルの変数clfをK近傍法アルゴリズムのインスタンスで上書き\n",
        "clf = KNeighborsClassifier(n_neighbors=1)"
      ],
      "execution_count": null,
      "outputs": []
    },
    {
      "cell_type": "code",
      "metadata": {
        "id": "g-w1GGyFambo"
      },
      "source": [
        "# 学習用入力データ(learn_data)と結果用正解データ(learn_label)を使って学習\n",
        "clf.fit(learn_data, learn_label)"
      ],
      "execution_count": null,
      "outputs": []
    },
    {
      "cell_type": "markdown",
      "metadata": {
        "id": "C0t2Audcbxwk"
      },
      "source": [
        "### テスト検証用データで推論をする"
      ]
    },
    {
      "cell_type": "code",
      "metadata": {
        "id": "PtFTul5ob2cW"
      },
      "source": [
        "# テスト検証用データ（test_data）と答え合わせようの正解データ（[0, 1, 1, 0]）\n",
        "test_label = clf.predict( test_data )\n",
        "\n",
        "# 推論結果の評価\n",
        "print(test_data, \"の予測（推論）結果\", test_label)\n",
        "print(\"正解率　＝　\", accuracy_score( [0, 1, 1, 0], test_label ))"
      ],
      "execution_count": null,
      "outputs": []
    }
  ]
}