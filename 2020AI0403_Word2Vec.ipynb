{
  "nbformat": 4,
  "nbformat_minor": 0,
  "metadata": {
    "colab": {
      "name": "2020AI0403-Word2Vec.ipynb",
      "provenance": [],
      "authorship_tag": "ABX9TyOfhFlvCQwbDViSVP5vYq2+",
      "include_colab_link": true
    },
    "kernelspec": {
      "name": "python3",
      "display_name": "Python 3"
    }
  },
  "cells": [
    {
      "cell_type": "markdown",
      "metadata": {
        "id": "view-in-github",
        "colab_type": "text"
      },
      "source": [
        "<a href=\"https://colab.research.google.com/github/ASO1801033/AI_teach2020/blob/master/2020AI0403_Word2Vec.ipynb\" target=\"_parent\"><img src=\"https://colab.research.google.com/assets/colab-badge.svg\" alt=\"Open In Colab\"/></a>"
      ]
    },
    {
      "cell_type": "markdown",
      "metadata": {
        "id": "MVvSRelpTHmr"
      },
      "source": [
        "## 単語の意味を判定する"
      ]
    },
    {
      "cell_type": "markdown",
      "metadata": {
        "id": "4I6yX6nVTLOW"
      },
      "source": [
        "### 単語の意味ベクトルを学習させたモデル（コーパスモデル）をダウンロードして解凍"
      ]
    },
    {
      "cell_type": "code",
      "metadata": {
        "colab": {
          "base_uri": "https://localhost:8080/"
        },
        "id": "DwmMO4ctTBw8",
        "outputId": "3fad7562-c273-4439-c122-aad54b1a48eb"
      },
      "source": [
        "import urllib.request as req\n",
        "# コーパスモデルをダウンロード\n",
        "url = \"https://www.dropbox.com/s/8kv39qpvg965i06/word2vec.gensim.zip?dl=1\"\n",
        "save_file = \"word2vec.gensim.model.zip\"\n",
        "req.urlretrieve(url, save_file)\n",
        "\n",
        "# unzipで解凍\n",
        "!unzip -o -q \"word2vec.gensim.model.zip\"\n",
        "print(\"word2vec.zip解凍\")"
      ],
      "execution_count": null,
      "outputs": [
        {
          "output_type": "stream",
          "text": [
            "word2vec.zip解凍\n"
          ],
          "name": "stdout"
        }
      ]
    },
    {
      "cell_type": "markdown",
      "metadata": {
        "id": "REDHgsZmUXB3"
      },
      "source": [
        "### コーパスモデルをプログラムに読み込む"
      ]
    },
    {
      "cell_type": "code",
      "metadata": {
        "id": "RGVkB4JWT_Xi"
      },
      "source": [
        "from gensim.models import Word2Vec\n",
        "# コーパスモデルを読み込んでWord2Vecの学習モデルインスタンスを取得\n",
        "model = Word2Vec.load(\"/content/word2vec.gensim.model\")"
      ],
      "execution_count": null,
      "outputs": []
    },
    {
      "cell_type": "markdown",
      "metadata": {
        "id": "hzLZCP7JUqwV"
      },
      "source": [
        "### コーパスモデルで単語の類似語を推論"
      ]
    },
    {
      "cell_type": "code",
      "metadata": {
        "colab": {
          "base_uri": "https://localhost:8080/"
        },
        "id": "NWVkbqJDUp4X",
        "outputId": "ad3a4dbe-f265-4fb2-b303-ac56f835b361"
      },
      "source": [
        "# 学習モデルに引き渡した言葉の類似語を推論したリストを取得\n",
        "results = model.wv.most_similar(positive=['業務'], topn=5)\n",
        "# リストをループして表示\n",
        "for result in results:\n",
        "  print(result)\n",
        "# for文終わり"
      ],
      "execution_count": null,
      "outputs": [
        {
          "output_type": "stream",
          "text": [
            "('事務', 0.8289206027984619)\n",
            "('民間企業', 0.7522704601287842)\n",
            "('郵便事業', 0.7504326105117798)\n",
            "('業務委託', 0.7485122680664062)\n",
            "('部署', 0.7473441362380981)\n"
          ],
          "name": "stdout"
        }
      ]
    },
    {
      "cell_type": "markdown",
      "metadata": {
        "id": "G7-i7ZcoVHQG"
      },
      "source": [
        "### 条件を組み合わせて推論"
      ]
    },
    {
      "cell_type": "code",
      "metadata": {
        "colab": {
          "base_uri": "https://localhost:8080/"
        },
        "id": "CwQFNJBaU-ME",
        "outputId": "f93ad9a9-4251-4c97-a5c5-e2bb623ec791"
      },
      "source": [
        "# ポジティブワードとネガティブワードを組み合わせる\n",
        "print(\"-----\")\n",
        "print(\"国王\")\n",
        "results = model.wv.most_similar(\"国王\")\n",
        "for result in results:\n",
        "  print(result)\n",
        " \n",
        "print(\"-----\")\n",
        "print(\"王\")\n",
        "results = model.wv.most_similar(\"王\")\n",
        "for result in results:\n",
        "  print(result)\n",
        "\n",
        "print(\"-----\")\n",
        "print(\"王様\")\n",
        "results = model.wv.most_similar(\"王様\")\n",
        "for result in results:\n",
        "  print(result)\n",
        "\n",
        "print(\"-----\")\n",
        "print(\"王様+女性-男性\")\n",
        "results = model.wv.most_similar(positive=['王様', '女性'], negative=['男性'])\n",
        "for result in results:\n",
        "  print(result)"
      ],
      "execution_count": null,
      "outputs": [
        {
          "output_type": "stream",
          "text": [
            "-----\n",
            "国王\n",
            "('ツァーリ', 0.9053068161010742)\n",
            "('スルタン', 0.8805959820747375)\n",
            "('皇帝', 0.874972939491272)\n",
            "('スルターン', 0.8520403504371643)\n",
            "('女帝', 0.8492650389671326)\n",
            "('ジェームズ2世', 0.837557315826416)\n",
            "('王太子', 0.8365861177444458)\n",
            "('摂政', 0.8361721634864807)\n",
            "('イギリス国王', 0.8348546028137207)\n",
            "('君主', 0.8336648941040039)\n",
            "-----\n",
            "王\n",
            "('大王', 0.855927586555481)\n",
            "('皇帝', 0.8524040579795837)\n",
            "('先王', 0.8425959348678589)\n",
            "('君主', 0.824544370174408)\n",
            "('ローマ皇帝', 0.8206972479820251)\n",
            "('西ローマ皇帝', 0.8157353401184082)\n",
            "('王シ', 0.8076152205467224)\n",
            "('ファラオ', 0.8029801845550537)\n",
            "('女帝', 0.8029454350471497)\n",
            "('聖王', 0.7952451705932617)\n",
            "-----\n",
            "王様\n",
            "('野獣', 0.8659248352050781)\n",
            "('お姫様', 0.8607541918754578)\n",
            "('魔女', 0.8333204388618469)\n",
            "('花嫁', 0.830689013004303)\n",
            "('乙女', 0.8267987966537476)\n",
            "('キューピッド', 0.8178128004074097)\n",
            "('狩人', 0.8152097463607788)\n",
            "('父さん', 0.8097778558731079)\n",
            "('パパ', 0.8046603798866272)\n",
            "('帽子屋', 0.8032904863357544)\n",
            "-----\n",
            "王様+女性-男性\n",
            "('お姫様', 0.8531287312507629)\n",
            "('花嫁', 0.839175820350647)\n",
            "('野獣', 0.8315544128417969)\n",
            "('魔女', 0.8298223614692688)\n",
            "('乙女', 0.8235582709312439)\n",
            "('愛する人', 0.800349235534668)\n",
            "('天国', 0.7905834913253784)\n",
            "('悪魔', 0.7898154854774475)\n",
            "('キューピッド', 0.7896510362625122)\n",
            "('魔法使い', 0.788610577583313)\n"
          ],
          "name": "stdout"
        }
      ]
    },
    {
      "cell_type": "markdown",
      "metadata": {
        "id": "8naljj-vWEVM"
      },
      "source": [
        "### 任意の文章を形態素解析して単語を抽出し、指定した言葉との類似性を推論、出力する"
      ]
    },
    {
      "cell_type": "code",
      "metadata": {
        "colab": {
          "base_uri": "https://localhost:8080/"
        },
        "id": "RLi5htvzVd_r",
        "outputId": "81d47ce5-d97b-45a5-a8fa-203877ad9c2d"
      },
      "source": [
        "# 「至急」という言葉に近い言葉をコーパスモデルに出力させる\n",
        "results = model.wv.most_similar(positive=['至急'])\n",
        "# リストの各要素をループ＆取得して出力\n",
        "for result in results:\n",
        "  print(result)\n",
        "# for文終わり\n",
        "\n",
        "# 文字セットの都合で文字化けしてエラーになる場合があるので注意\n",
        "#results = model.wv.most_similar(positive=['大至急'])\n",
        "# リストの各要素をループ＆取得して出力\n",
        "#for result in results:\n",
        "  #print(result)\n",
        "# for文終わり\n",
        "\n",
        "results = model.wv.most_similar(positive=['急ぎ'])\n",
        "# リストの各要素をループ＆取得して出力\n",
        "for result in results:\n",
        "  print(result)\n",
        "# for文終わり"
      ],
      "execution_count": null,
      "outputs": [
        {
          "output_type": "stream",
          "text": [
            "('急ぎ', 0.7244844436645508)\n",
            "('無電', 0.7031903266906738)\n",
            "('雄洋', 0.6877992153167725)\n",
            "('栄丸', 0.6654155850410461)\n",
            "('比叡', 0.6648874878883362)\n",
            "('信濃丸', 0.6561662554740906)\n",
            "('富士山丸', 0.6513621211051941)\n",
            "('退艦', 0.6435442566871643)\n",
            "('停船', 0.6430754065513611)\n",
            "('薄雲', 0.6411623358726501)\n",
            "('やむなく', 0.789318859577179)\n",
            "('ひそか', 0.7474408745765686)\n",
            "('ただちに', 0.7438754439353943)\n",
            "('ひとまず', 0.7431749105453491)\n",
            "('やむを得ず', 0.7409578561782837)\n",
            "('急ぐ', 0.7246897220611572)\n",
            "('至急', 0.7244844436645508)\n",
            "('すぐさま', 0.7139618396759033)\n",
            "('敗報', 0.7133142352104187)\n",
            "('渋る', 0.7113310098648071)\n"
          ],
          "name": "stdout"
        }
      ]
    },
    {
      "cell_type": "markdown",
      "metadata": {
        "id": "xWEfjmdQW-2p"
      },
      "source": [
        "### まず文章を形態素解析するためにMeCabと最新の辞書をインストール"
      ]
    },
    {
      "cell_type": "code",
      "metadata": {
        "colab": {
          "base_uri": "https://localhost:8080/"
        },
        "id": "kEEi8_c9WedJ",
        "outputId": "f9ae2ea0-aa15-4730-eea9-c97f2b8702bc"
      },
      "source": [
        "# 形態素解析ライブラリーMeCabと辞書（mecab-ipadic-NEologd）のインストール\n",
        "!apt-get -q -y install sudo file mecab libmecab-dev mecab-ipadic-utf8 git curl python-mecab > /dev/null\n",
        "!pip install mecab-python3 > /dev/null\n",
        "\n",
        "# MeCabの実行時の指定パスをインストールパスにリンクさせる\n",
        "# シンボリックリンク（/etc/mecab を /usr/local/etc/mecabrc で参照できるようにする）\n",
        "!ln -s /etc/mecabrc /usr/local/etc/mecabrc"
      ],
      "execution_count": null,
      "outputs": [
        {
          "output_type": "stream",
          "text": [
            "ln: failed to create symbolic link '/usr/local/etc/mecabrc': File exists\n"
          ],
          "name": "stdout"
        }
      ]
    },
    {
      "cell_type": "code",
      "metadata": {
        "colab": {
          "base_uri": "https://localhost:8080/"
        },
        "id": "cikQ6yAIX_vV",
        "outputId": "5a36ebb7-dbd9-46c7-cbe8-ba233ab43400"
      },
      "source": [
        "# 最新の辞書（ipadic-neologd）をgithubからclone\n",
        "!git clone --depth 1 http://github.com/neologd/mecab-ipadic-neologd.git > /dev/null\n",
        "# ipadic-neologdのインストールプログラムを実行\n",
        "!echo yes | mecab-ipadic-neologd/bin/install-mecab-ipadic-neologd -n > /dev/null 2>&1"
      ],
      "execution_count": null,
      "outputs": [
        {
          "output_type": "stream",
          "text": [
            "fatal: destination path 'mecab-ipadic-neologd' already exists and is not an empty directory.\n"
          ],
          "name": "stdout"
        }
      ]
    },
    {
      "cell_type": "markdown",
      "metadata": {
        "id": "E-qbr8h9Z91Q"
      },
      "source": [
        "### 最新の辞書を読み込んでMeCabのインスタンスを生成"
      ]
    },
    {
      "cell_type": "code",
      "metadata": {
        "colab": {
          "base_uri": "https://localhost:8080/"
        },
        "id": "3u9gRv15Yw3R",
        "outputId": "bea84bcc-0da4-40d8-edb3-2da0decc36b9"
      },
      "source": [
        "# 辞書のインストール済みディレクトリを確認表示\n",
        "!echo `mecab-config --dicdir`\"/mecab-ipadic-neologd\""
      ],
      "execution_count": null,
      "outputs": [
        {
          "output_type": "stream",
          "text": [
            "/usr/lib/x86_64-linux-gnu/mecab/dic/mecab-ipadic-neologd\n"
          ],
          "name": "stdout"
        }
      ]
    },
    {
      "cell_type": "code",
      "metadata": {
        "id": "Qe3nVjISaOXp"
      },
      "source": [
        "import MeCab\n",
        "# mecab-ipadic-neologd辞書を指定して、MeCabオブジェクトのインスタンスを生成\n",
        "path_neologd = \"/usr/lib/x86_64-linux-gnu/mecab/dic/mecab-ipadic-neologd\"\n",
        "tagger = MeCab.Tagger(\"-d\" + path_neologd)"
      ],
      "execution_count": null,
      "outputs": []
    },
    {
      "cell_type": "markdown",
      "metadata": {
        "id": "0XJWkDdAasDI"
      },
      "source": [
        "### 特定の文章からMeCabの形態素解析で単語を抜き出し、指定した単語との類似度ベクトルをWord2Vecで判定する処理を関数で作る"
      ]
    },
    {
      "cell_type": "code",
      "metadata": {
        "id": "z9ZPWUpsaob_"
      },
      "source": [
        "# 渡されたテキストに含まれる各単語と「至急」の類似度を表示する関数\n",
        "def print_emargency(text, keyword):\n",
        "  # 引き渡された値を表示\n",
        "  print(\"target String: \", text, \"keyword:\", keyword)\n",
        "  # MeCabで形態素のノードリストに変換する\n",
        "  node = tagger.parseToNode(text)\n",
        "  # ノードリストの各要素をループして処理\n",
        "  while node is not None:\n",
        "    # 名詞、動詞、形容詞以外のストップワードを除去し、残った単語をWord2Vecで判定\n",
        "    # ストップワードを除去\n",
        "    fields = node.feature.split(\",\")\n",
        "    if fields[0] == '名詞' or fields[0] == '動詞' or fields[0] == '形容詞':\n",
        "      # Word2Vecで第二引数keywordとの類似度ベクトルを表示する\n",
        "      print(model.wv.similarity(node.surface, keyword), node.surface)\n",
        "    # if文の終わり\n",
        "    node = node.next\n",
        "  # while文の終わり"
      ],
      "execution_count": null,
      "outputs": []
    },
    {
      "cell_type": "code",
      "metadata": {
        "colab": {
          "base_uri": "https://localhost:8080/"
        },
        "id": "mV9nKseXcSfM",
        "outputId": "ae0889eb-ac6e-45fd-8b93-eb53615769e1"
      },
      "source": [
        "# 関数実行\n",
        "print_emargency(\"PCが起動しなくなりました。急いでいます。\", \"至急\")\n",
        "print_emargency(\"使い方がよくわかりません\", \"至急\")"
      ],
      "execution_count": null,
      "outputs": [
        {
          "output_type": "stream",
          "text": [
            "target String:  PCが起動しなくなりました。急いでいます。 keyword: 至急\n",
            "-0.09927091 PC\n",
            "0.118230164 起動\n",
            "0.044207577 し\n",
            "0.037055567 なり\n",
            "0.3655378 急い\n",
            "-0.06583241 い\n",
            "target String:  使い方がよくわかりません keyword: 至急\n",
            "-0.0030400325 使い方\n",
            "0.058717843 わかり\n"
          ],
          "name": "stdout"
        }
      ]
    }
  ]
}