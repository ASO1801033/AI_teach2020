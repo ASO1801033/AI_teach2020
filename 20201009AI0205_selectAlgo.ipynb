{
  "nbformat": 4,
  "nbformat_minor": 0,
  "metadata": {
    "colab": {
      "name": "20201009AI0205-selectAlgo.ipynb",
      "provenance": [],
      "collapsed_sections": [],
      "authorship_tag": "ABX9TyNozJchpfYQjvMI51LHJku4",
      "include_colab_link": true
    },
    "kernelspec": {
      "name": "python3",
      "display_name": "Python 3"
    }
  },
  "cells": [
    {
      "cell_type": "markdown",
      "metadata": {
        "id": "view-in-github",
        "colab_type": "text"
      },
      "source": [
        "<a href=\"https://colab.research.google.com/github/ASO1801033/AI_teach2020/blob/master/20201009AI0205_selectAlgo.ipynb\" target=\"_parent\"><img src=\"https://colab.research.google.com/assets/colab-badge.svg\" alt=\"Open In Colab\"/></a>"
      ]
    },
    {
      "cell_type": "markdown",
      "metadata": {
        "id": "nvP3YL5m1sMH"
      },
      "source": [
        "## sklearnでエラーが出るので、前のバージョンを入れ直す"
      ]
    },
    {
      "cell_type": "code",
      "metadata": {
        "id": "k_ieanpN10La"
      },
      "source": [
        "# 現在のscikit-learnをVMからアンインストール\n",
        "# !pip uninstall scikit-learn\n",
        "# 前のバージョンを指定してVMにインストール\n",
        "# !pip install scikit-learn==0.20 --ignore-installed"
      ],
      "execution_count": 40,
      "outputs": []
    },
    {
      "cell_type": "markdown",
      "metadata": {
        "id": "DEbUPV-nEStR"
      },
      "source": [
        "## all_estimators()でループして各種のアルゴリズムで学習させ、比較する"
      ]
    },
    {
      "cell_type": "code",
      "metadata": {
        "id": "pUMMyhH7EdZP"
      },
      "source": [
        "# ライブラリの読み込み\n",
        "import pandas as pd\n",
        "# 学習用データとテスト検証用データを分割するライブラリ\n",
        "from sklearn.model_selection import train_test_split\n",
        "# 正解率を算出するライブラリ\n",
        "from sklearn.metrics import accuracy_score\n",
        "# all_estimators(推論気の全てを利用できるようにする)\n",
        "from sklearn.utils.testing import all_estimators\n",
        "# 警告クラス\n",
        "import warnings"
      ],
      "execution_count": 41,
      "outputs": []
    },
    {
      "cell_type": "markdown",
      "metadata": {
        "id": "6l4PmNclFUv8"
      },
      "source": [
        "## webからアヤメのデータを読み込む"
      ]
    },
    {
      "cell_type": "code",
      "metadata": {
        "id": "jhRatoBXFPce",
        "outputId": "2753dc2b-0898-409a-8892-9d90489df11b",
        "colab": {
          "base_uri": "https://localhost:8080/",
          "height": 204
        }
      },
      "source": [
        "# urlリンクから読み込むライブラリ\n",
        "import urllib.request as req\n",
        "# url用の文字列変数を定義\n",
        "url = \"https://raw.githubusercontent.com/pandas-dev/pandas/master/pandas/tests/io/data/csv/iris.csv\"\n",
        "# リンクから保存するためのファイル名を定義\n",
        "savefile = \"iris.csv\"\n",
        "# requestクラスを使ってurlからデータをsavefileへコピーして保存\n",
        "req.urlretrieve(url, savefile)\n",
        "# pandasのread_csvメソッドを使ってCSVファイルを読み込む\n",
        "iris_data = pd.read_csv(savefile, encoding=\"utf-8\")\n",
        "iris_data.head()"
      ],
      "execution_count": 42,
      "outputs": [
        {
          "output_type": "execute_result",
          "data": {
            "text/html": [
              "<div>\n",
              "<style scoped>\n",
              "    .dataframe tbody tr th:only-of-type {\n",
              "        vertical-align: middle;\n",
              "    }\n",
              "\n",
              "    .dataframe tbody tr th {\n",
              "        vertical-align: top;\n",
              "    }\n",
              "\n",
              "    .dataframe thead th {\n",
              "        text-align: right;\n",
              "    }\n",
              "</style>\n",
              "<table border=\"1\" class=\"dataframe\">\n",
              "  <thead>\n",
              "    <tr style=\"text-align: right;\">\n",
              "      <th></th>\n",
              "      <th>SepalLength</th>\n",
              "      <th>SepalWidth</th>\n",
              "      <th>PetalLength</th>\n",
              "      <th>PetalWidth</th>\n",
              "      <th>Name</th>\n",
              "    </tr>\n",
              "  </thead>\n",
              "  <tbody>\n",
              "    <tr>\n",
              "      <th>0</th>\n",
              "      <td>5.1</td>\n",
              "      <td>3.5</td>\n",
              "      <td>1.4</td>\n",
              "      <td>0.2</td>\n",
              "      <td>Iris-setosa</td>\n",
              "    </tr>\n",
              "    <tr>\n",
              "      <th>1</th>\n",
              "      <td>4.9</td>\n",
              "      <td>3.0</td>\n",
              "      <td>1.4</td>\n",
              "      <td>0.2</td>\n",
              "      <td>Iris-setosa</td>\n",
              "    </tr>\n",
              "    <tr>\n",
              "      <th>2</th>\n",
              "      <td>4.7</td>\n",
              "      <td>3.2</td>\n",
              "      <td>1.3</td>\n",
              "      <td>0.2</td>\n",
              "      <td>Iris-setosa</td>\n",
              "    </tr>\n",
              "    <tr>\n",
              "      <th>3</th>\n",
              "      <td>4.6</td>\n",
              "      <td>3.1</td>\n",
              "      <td>1.5</td>\n",
              "      <td>0.2</td>\n",
              "      <td>Iris-setosa</td>\n",
              "    </tr>\n",
              "    <tr>\n",
              "      <th>4</th>\n",
              "      <td>5.0</td>\n",
              "      <td>3.6</td>\n",
              "      <td>1.4</td>\n",
              "      <td>0.2</td>\n",
              "      <td>Iris-setosa</td>\n",
              "    </tr>\n",
              "  </tbody>\n",
              "</table>\n",
              "</div>"
            ],
            "text/plain": [
              "   SepalLength  SepalWidth  PetalLength  PetalWidth         Name\n",
              "0          5.1         3.5          1.4         0.2  Iris-setosa\n",
              "1          4.9         3.0          1.4         0.2  Iris-setosa\n",
              "2          4.7         3.2          1.3         0.2  Iris-setosa\n",
              "3          4.6         3.1          1.5         0.2  Iris-setosa\n",
              "4          5.0         3.6          1.4         0.2  Iris-setosa"
            ]
          },
          "metadata": {
            "tags": []
          },
          "execution_count": 42
        }
      ]
    },
    {
      "cell_type": "markdown",
      "metadata": {
        "id": "BGbCi-DFGtIK"
      },
      "source": [
        "## アヤメデータを目的変数：y（ラベル）と説明変数：x（入力データ）に分離する"
      ]
    },
    {
      "cell_type": "code",
      "metadata": {
        "id": "Qw9o2KBZGo8Q",
        "outputId": "88ea0ef3-ccbc-47f0-e0d7-3bf96916c577",
        "colab": {
          "base_uri": "https://localhost:8080/"
        }
      },
      "source": [
        "y = iris_data.loc[:, \"Name\"] # 目的変数\n",
        "x = iris_data.loc[:, [\"SepalLength\", \"SepalWidth\", \"PetalLength\", \"PetalWidth\"]] # 説明変数\n",
        "\n",
        "print(y.head())\n",
        "print(x.head())"
      ],
      "execution_count": 43,
      "outputs": [
        {
          "output_type": "stream",
          "text": [
            "0    Iris-setosa\n",
            "1    Iris-setosa\n",
            "2    Iris-setosa\n",
            "3    Iris-setosa\n",
            "4    Iris-setosa\n",
            "Name: Name, dtype: object\n",
            "   SepalLength  SepalWidth  PetalLength  PetalWidth\n",
            "0          5.1         3.5          1.4         0.2\n",
            "1          4.9         3.0          1.4         0.2\n",
            "2          4.7         3.2          1.3         0.2\n",
            "3          4.6         3.1          1.5         0.2\n",
            "4          5.0         3.6          1.4         0.2\n"
          ],
          "name": "stdout"
        }
      ]
    },
    {
      "cell_type": "markdown",
      "metadata": {
        "id": "NFr2bol4I9w3"
      },
      "source": [
        "## アヤメデータをさらに学習用とテスト検証用に分離する"
      ]
    },
    {
      "cell_type": "code",
      "metadata": {
        "id": "c3gIZvdUHV-i",
        "outputId": "742de72a-2c93-43a8-e7f6-01b871b15806",
        "colab": {
          "base_uri": "https://localhost:8080/"
        }
      },
      "source": [
        "# 学習用データ（train）とテスト検証用データ（test）に分離\n",
        "x_train, x_test, y_train, y_test = train_test_split(x, y, test_size=0.2, train_size=0.8, shuffle=True)\n",
        "print(x_train.head())\n",
        "print(y_train.head())\n",
        "print(x_test.head())\n",
        "print(y_test.head())"
      ],
      "execution_count": 44,
      "outputs": [
        {
          "output_type": "stream",
          "text": [
            "     SepalLength  SepalWidth  PetalLength  PetalWidth\n",
            "19           5.1         3.8          1.5         0.3\n",
            "33           5.5         4.2          1.4         0.2\n",
            "107          7.3         2.9          6.3         1.8\n",
            "45           4.8         3.0          1.4         0.3\n",
            "12           4.8         3.0          1.4         0.1\n",
            "19        Iris-setosa\n",
            "33        Iris-setosa\n",
            "107    Iris-virginica\n",
            "45        Iris-setosa\n",
            "12        Iris-setosa\n",
            "Name: Name, dtype: object\n",
            "     SepalLength  SepalWidth  PetalLength  PetalWidth\n",
            "9            4.9         3.1          1.5         0.1\n",
            "134          6.1         2.6          5.6         1.4\n",
            "59           5.2         2.7          3.9         1.4\n",
            "38           4.4         3.0          1.3         0.2\n",
            "15           5.7         4.4          1.5         0.4\n",
            "9          Iris-setosa\n",
            "134     Iris-virginica\n",
            "59     Iris-versicolor\n",
            "38         Iris-setosa\n",
            "15         Iris-setosa\n",
            "Name: Name, dtype: object\n"
          ],
          "name": "stdout"
        }
      ]
    },
    {
      "cell_type": "markdown",
      "metadata": {
        "id": "5wLT-qpFzoTZ"
      },
      "source": [
        "### allAlgorithmsにclassifierを指定して「分類」でフィルターしたアルゴリズム推定器群を取得する"
      ]
    },
    {
      "cell_type": "code",
      "metadata": {
        "id": "0kc9qsp9zgUS"
      },
      "source": [
        "# 推定器のリストをフィルター指定して取得\n",
        "allAlgorithms = all_estimators(type_filter=\"classifier\")\n",
        "# ワーニングを無視する\n",
        "warnings.filterwarnings('ignore')"
      ],
      "execution_count": 45,
      "outputs": []
    },
    {
      "cell_type": "markdown",
      "metadata": {
        "id": "24rFIqm70ZIC"
      },
      "source": [
        "## scikit-learnでエラーが出るのはデータがアルゴリズムに適していないのを判別してくれているから→エラーをキャッチしてみる"
      ]
    },
    {
      "cell_type": "code",
      "metadata": {
        "id": "xLA91Gie0WYx",
        "outputId": "d9d79533-df7b-4f3f-fa72-5f76a94d1821",
        "colab": {
          "base_uri": "https://localhost:8080/"
        }
      },
      "source": [
        "# 推定器のリストをループ\n",
        "for (name, algorithm) in allAlgorithms:\n",
        "  # pythonでのtry-catch(try-except)\n",
        "  try: # pythonのtry\n",
        "    # 各アルゴリズムのオブジェクトを生成\n",
        "    clf = algorithm() # 各アルゴリズムクラスのコンストラクタを実行\n",
        "    # 学習させる（fitメソッド）\n",
        "    clf.fit(x_train, y_train)\n",
        "    # 推論する\n",
        "    y_pred = clf.predict(x_test)\n",
        "    # accuracy_scoreで正解率を算出して表示\n",
        "    print(name, \"の正解率 = \", accuracy_score(y_test, y_pred))\n",
        "  # tryの終わり\n",
        "  # pythonのcatch(except)\n",
        "  except Exception as e:\n",
        "    print(\"\\033[31m\", \"Error: \\033[0m\", name, \":\", e.args) # \\はバックスラッシュのエスケープ\n",
        "    # pass\n",
        "  else:\n",
        "    # print(\"Exception以外、正常系など\")\n",
        "    pass\n",
        "  # try-catch終了\n",
        "# for文終了"
      ],
      "execution_count": 46,
      "outputs": [
        {
          "output_type": "stream",
          "text": [
            "AdaBoostClassifier の正解率 =  0.9333333333333333\n",
            "BaggingClassifier の正解率 =  0.9666666666666667\n",
            "BernoulliNB の正解率 =  0.3\n",
            "CalibratedClassifierCV の正解率 =  0.9333333333333333\n",
            "CategoricalNB の正解率 =  0.9333333333333333\n",
            "\u001b[31m Error: \u001b[0m CheckingClassifier : (\"could not convert string to float: 'Iris-setosa'\",)\n",
            "\u001b[31m Error: \u001b[0m ClassifierChain : (\"__init__() missing 1 required positional argument: 'base_estimator'\",)\n",
            "ComplementNB の正解率 =  0.7\n",
            "DecisionTreeClassifier の正解率 =  0.9666666666666667\n",
            "DummyClassifier の正解率 =  0.36666666666666664\n",
            "ExtraTreeClassifier の正解率 =  0.9\n",
            "ExtraTreesClassifier の正解率 =  0.9666666666666667\n",
            "GaussianNB の正解率 =  0.9333333333333333\n",
            "GaussianProcessClassifier の正解率 =  0.9666666666666667\n",
            "GradientBoostingClassifier の正解率 =  0.9666666666666667\n",
            "HistGradientBoostingClassifier の正解率 =  0.9666666666666667\n",
            "KNeighborsClassifier の正解率 =  0.9666666666666667\n",
            "LabelPropagation の正解率 =  0.9666666666666667\n",
            "LabelSpreading の正解率 =  0.9666666666666667\n",
            "LinearDiscriminantAnalysis の正解率 =  1.0\n",
            "LinearSVC の正解率 =  1.0\n",
            "LogisticRegression の正解率 =  0.9666666666666667\n",
            "LogisticRegressionCV の正解率 =  0.9666666666666667\n",
            "MLPClassifier の正解率 =  1.0\n",
            "\u001b[31m Error: \u001b[0m MultiOutputClassifier : (\"__init__() missing 1 required positional argument: 'estimator'\",)\n",
            "MultinomialNB の正解率 =  0.9666666666666667\n",
            "NearestCentroid の正解率 =  0.9\n",
            "NuSVC の正解率 =  0.9666666666666667\n",
            "\u001b[31m Error: \u001b[0m OneVsOneClassifier : (\"__init__() missing 1 required positional argument: 'estimator'\",)\n",
            "\u001b[31m Error: \u001b[0m OneVsRestClassifier : (\"__init__() missing 1 required positional argument: 'estimator'\",)\n",
            "\u001b[31m Error: \u001b[0m OutputCodeClassifier : (\"__init__() missing 1 required positional argument: 'estimator'\",)\n",
            "PassiveAggressiveClassifier の正解率 =  0.8333333333333334\n",
            "Perceptron の正解率 =  0.7\n",
            "QuadraticDiscriminantAnalysis の正解率 =  0.9666666666666667\n",
            "RadiusNeighborsClassifier の正解率 =  0.9666666666666667\n",
            "RandomForestClassifier の正解率 =  0.9333333333333333\n",
            "RidgeClassifier の正解率 =  0.8\n",
            "RidgeClassifierCV の正解率 =  0.8\n",
            "SGDClassifier の正解率 =  0.9\n",
            "SVC の正解率 =  0.9666666666666667\n",
            "\u001b[31m Error: \u001b[0m StackingClassifier : (\"__init__() missing 1 required positional argument: 'estimators'\",)\n",
            "\u001b[31m Error: \u001b[0m VotingClassifier : (\"__init__() missing 1 required positional argument: 'estimators'\",)\n"
          ],
          "name": "stdout"
        }
      ]
    },
    {
      "cell_type": "markdown",
      "metadata": {
        "id": "N0ZxWb3Wc7pi"
      },
      "source": [
        "## クロスバリデーション"
      ]
    },
    {
      "cell_type": "markdown",
      "metadata": {
        "id": "XcXgqlaxdDG2"
      },
      "source": [
        "### クロスバリデーション関連のライブラリのインポート"
      ]
    },
    {
      "cell_type": "code",
      "metadata": {
        "id": "wV9p_OhDc_qk"
      },
      "source": [
        "# ライブラリのインポート\n",
        "# K分割クロスバリデーション（交差検証）のためのライブラリ\n",
        "from sklearn.model_selection import  KFold\n",
        "# クロスバリデーションスコアを取得するためのオブジェクト\n",
        "from sklearn.model_selection import  cross_val_score"
      ],
      "execution_count": 47,
      "outputs": []
    },
    {
      "cell_type": "markdown",
      "metadata": {
        "id": "cm_hUlf9dnCV"
      },
      "source": [
        "### クロスバリデーションを実行する"
      ]
    },
    {
      "cell_type": "code",
      "metadata": {
        "id": "gQDCpbTxdbfs",
        "outputId": "80ecc61f-42b3-4f33-a093-6cb19ef40d5d",
        "colab": {
          "base_uri": "https://localhost:8080/"
        }
      },
      "source": [
        "# K分割交差検証用のインスタンスを生成する\n",
        "kfold_cv = KFold(n_splits=5, shuffle=True)\n",
        "# 既に生成してあるall_estimatorsのインスタンスをループさせて、クロスバリデーションを行う\n",
        "for(name, algorithm) in allAlgorithms:\n",
        "  try:\n",
        "    # 各アルゴリズムのインスタンスを取得\n",
        "    clf =  algorithm()\n",
        "    # scoreの属性がある学習だけに絞る\n",
        "    if hasattr(clf, \"score\"):\n",
        "      # クロスバリデーションをしてスコアを取得する\n",
        "      scores = cross_val_score(clf, x, y, cv=kfold_cv)\n",
        "      # k=n_splits=5 回分のクロスバリデーションのスコアを表示\n",
        "      print(name, \"の正解率 = \")\n",
        "      print(scores)\n",
        "    # ifの終了\n",
        "  # tryブロックの終了\n",
        "  except: # 例外処理のブロック\n",
        "    # 何もしない\n",
        "    pass"
      ],
      "execution_count": 48,
      "outputs": [
        {
          "output_type": "stream",
          "text": [
            "AdaBoostClassifier の正解率 = \n",
            "[0.96666667 0.96666667 0.9        0.93333333 0.9       ]\n",
            "BaggingClassifier の正解率 = \n",
            "[0.96666667 0.93333333 1.         0.96666667 0.83333333]\n",
            "BernoulliNB の正解率 = \n",
            "[0.23333333 0.23333333 0.2        0.3        0.3       ]\n",
            "CalibratedClassifierCV の正解率 = \n",
            "[0.93333333 0.93333333 0.9        0.9        0.86666667]\n",
            "CategoricalNB の正解率 = \n",
            "[0.9        0.96666667 0.86666667 0.93333333 0.96666667]\n",
            "CheckingClassifier の正解率 = \n",
            "[nan nan nan nan nan]\n",
            "ComplementNB の正解率 = \n",
            "[0.7        0.63333333 0.53333333 0.73333333 0.73333333]\n",
            "DecisionTreeClassifier の正解率 = \n",
            "[0.83333333 0.9        1.         0.96666667 0.96666667]\n",
            "DummyClassifier の正解率 = \n",
            "[0.2        0.5        0.43333333 0.3        0.2       ]\n",
            "ExtraTreeClassifier の正解率 = \n",
            "[0.93333333 0.76666667 0.86666667 0.96666667 0.93333333]\n",
            "ExtraTreesClassifier の正解率 = \n",
            "[0.96666667 1.         0.93333333 0.96666667 0.9       ]\n",
            "GaussianNB の正解率 = \n",
            "[0.96666667 1.         0.9        0.93333333 1.        ]\n",
            "GaussianProcessClassifier の正解率 = \n",
            "[0.9        0.96666667 1.         0.96666667 0.93333333]\n",
            "GradientBoostingClassifier の正解率 = \n",
            "[0.86666667 0.93333333 0.96666667 1.         0.93333333]\n",
            "HistGradientBoostingClassifier の正解率 = \n",
            "[0.93333333 1.         0.93333333 0.96666667 0.93333333]\n",
            "KNeighborsClassifier の正解率 = \n",
            "[0.96666667 1.         0.93333333 0.93333333 0.93333333]\n",
            "LabelPropagation の正解率 = \n",
            "[0.93333333 0.96666667 0.96666667 1.         0.93333333]\n",
            "LabelSpreading の正解率 = \n",
            "[1.         0.93333333 0.93333333 1.         0.93333333]\n",
            "LinearDiscriminantAnalysis の正解率 = \n",
            "[1.         1.         0.93333333 1.         0.96666667]\n",
            "LinearSVC の正解率 = \n",
            "[0.93333333 0.96666667 0.96666667 1.         0.96666667]\n",
            "LogisticRegression の正解率 = \n",
            "[0.93333333 0.93333333 0.96666667 1.         0.96666667]\n",
            "LogisticRegressionCV の正解率 = \n",
            "[1.         1.         1.         0.9        0.96666667]\n",
            "MLPClassifier の正解率 = \n",
            "[1.         0.96666667 1.         0.86666667 0.96666667]\n",
            "MultinomialNB の正解率 = \n",
            "[0.86666667 0.66666667 0.83333333 0.93333333 0.76666667]\n",
            "NearestCentroid の正解率 = \n",
            "[0.93333333 0.96666667 0.93333333 0.96666667 0.8       ]\n",
            "NuSVC の正解率 = \n",
            "[0.93333333 0.96666667 0.96666667 0.93333333 0.9       ]\n",
            "PassiveAggressiveClassifier の正解率 = \n",
            "[0.93333333 0.6        0.83333333 0.83333333 0.66666667]\n",
            "Perceptron の正解率 = \n",
            "[0.36666667 0.8        0.83333333 0.96666667 0.7       ]\n",
            "QuadraticDiscriminantAnalysis の正解率 = \n",
            "[0.96666667 1.         0.96666667 0.96666667 0.96666667]\n",
            "RadiusNeighborsClassifier の正解率 = \n",
            "[1.         0.93333333 0.93333333 0.93333333 0.96666667]\n",
            "RandomForestClassifier の正解率 = \n",
            "[0.93333333 0.96666667 0.93333333 1.         0.86666667]\n",
            "RidgeClassifier の正解率 = \n",
            "[0.9        0.83333333 0.8        0.76666667 0.8       ]\n",
            "RidgeClassifierCV の正解率 = \n",
            "[0.9        0.73333333 0.9        0.83333333 0.76666667]\n",
            "SGDClassifier の正解率 = \n",
            "[0.63333333 0.9        0.73333333 1.         0.76666667]\n",
            "SVC の正解率 = \n",
            "[1.         0.9        0.93333333 0.93333333 1.        ]\n"
          ],
          "name": "stdout"
        }
      ]
    },
    {
      "cell_type": "markdown",
      "metadata": {
        "id": "FObo0SKFfULL"
      },
      "source": [
        "### おまけ：もっと詳しい結果を取得できる新しいクロスバリデーションオブジェクト：cross_validate"
      ]
    },
    {
      "cell_type": "code",
      "metadata": {
        "id": "NVOwA9bMfeLX"
      },
      "source": [
        "# ライブラリのインポート\n",
        "from sklearn.model_selection import cross_validate"
      ],
      "execution_count": 49,
      "outputs": []
    },
    {
      "cell_type": "markdown",
      "metadata": {
        "id": "S1JC0GfFfoQH"
      },
      "source": [
        "### cross_validateを使ったクロスバリデーション"
      ]
    },
    {
      "cell_type": "code",
      "metadata": {
        "id": "5uW5MYcMfm4F",
        "outputId": "be04fb4c-e5ca-4ce4-f425-7fdcaa1583a0",
        "colab": {
          "base_uri": "https://localhost:8080/"
        }
      },
      "source": [
        "# K分割交差検証用のインスタンスを生成する\n",
        "kfold_cv = KFold(n_splits=5, shuffle=True)\n",
        "# 既に生成してあるall_estimatorsのインスタンスをループさせて、クロスバリデーションを行う\n",
        "for(name, algorithm) in allAlgorithms:\n",
        "  try:\n",
        "    # 各アルゴリズムのインスタンスを取得\n",
        "    clf =  algorithm()\n",
        "    # scoreの属性がある学習だけに絞る\n",
        "    if hasattr(clf, \"score\"):\n",
        "      # cross_validateでクロスバリデーションをしてスコアを取得する\n",
        "      scores = cross_validate(clf, x, y, cv=kfold_cv)\n",
        "      # k=n_splits=5 回分のクロスバリデーションのスコアを表示\n",
        "      print(name, \"の正解率 = \")\n",
        "      print(scores)\n",
        "    # ifの終了\n",
        "  # tryブロックの終了\n",
        "  except: # 例外処理のブロック\n",
        "    # 何もしない\n",
        "    pass"
      ],
      "execution_count": 50,
      "outputs": [
        {
          "output_type": "stream",
          "text": [
            "AdaBoostClassifier の正解率 = \n",
            "{'fit_time': array([0.07316542, 0.06649351, 0.07189417, 0.0714519 , 0.06680107]), 'score_time': array([0.00821924, 0.00691915, 0.00826526, 0.00695443, 0.00695872]), 'test_score': array([1.        , 0.96666667, 0.93333333, 0.93333333, 0.9       ])}\n",
            "BaggingClassifier の正解率 = \n",
            "{'fit_time': array([0.01568365, 0.01397276, 0.01411295, 0.01390052, 0.01397395]), 'score_time': array([0.00211072, 0.00200248, 0.0021162 , 0.00205874, 0.00204444]), 'test_score': array([0.96666667, 0.96666667, 0.93333333, 0.96666667, 0.93333333])}\n",
            "BernoulliNB の正解率 = \n",
            "{'fit_time': array([0.00289488, 0.00250268, 0.00249887, 0.00250316, 0.0024538 ]), 'score_time': array([0.00133562, 0.00119734, 0.0013752 , 0.00136471, 0.00119042]), 'test_score': array([0.23333333, 0.26666667, 0.2       , 0.26666667, 0.23333333])}\n",
            "CalibratedClassifierCV の正解率 = \n",
            "{'fit_time': array([0.06245494, 0.06268024, 0.06198478, 0.05861497, 0.06028605]), 'score_time': array([0.00194716, 0.00218368, 0.00198174, 0.00196052, 0.00221801]), 'test_score': array([0.86666667, 0.96666667, 0.9       , 0.93333333, 0.86666667])}\n",
            "CategoricalNB の正解率 = \n",
            "{'fit_time': array([0.00419164, 0.00254393, 0.00245833, 0.00238132, 0.00296926]), 'score_time': array([0.00098395, 0.00092149, 0.00093651, 0.0010016 , 0.00092936]), 'test_score': array([0.93333333, 0.96666667, 0.93333333, 0.86666667, 0.93333333])}\n",
            "CheckingClassifier の正解率 = \n",
            "{'fit_time': array([0.00090909, 0.00119376, 0.00074816, 0.00074124, 0.00072885]), 'score_time': array([0., 0., 0., 0., 0.]), 'test_score': array([nan, nan, nan, nan, nan])}\n",
            "ComplementNB の正解率 = \n",
            "{'fit_time': array([0.00277829, 0.00316334, 0.0031743 , 0.00186968, 0.00194645]), 'score_time': array([0.00149584, 0.00118136, 0.00097775, 0.00091195, 0.00091076]), 'test_score': array([0.6       , 0.66666667, 0.7       , 0.63333333, 0.73333333])}\n",
            "DecisionTreeClassifier の正解率 = \n",
            "{'fit_time': array([0.00259018, 0.00149441, 0.00146961, 0.0014689 , 0.00145006]), 'score_time': array([0.00090003, 0.00084496, 0.0008347 , 0.0008297 , 0.00079489]), 'test_score': array([0.96666667, 0.93333333, 0.86666667, 0.96666667, 0.96666667])}\n",
            "DummyClassifier の正解率 = \n",
            "{'fit_time': array([0.00103426, 0.00105906, 0.00075173, 0.00072193, 0.00072646]), 'score_time': array([0.00133419, 0.00040174, 0.0004003 , 0.0003655 , 0.0003562 ]), 'test_score': array([0.3       , 0.46666667, 0.36666667, 0.26666667, 0.4       ])}\n",
            "ExtraTreeClassifier の正解率 = \n",
            "{'fit_time': array([0.00263166, 0.00145459, 0.00144744, 0.00144839, 0.00142694]), 'score_time': array([0.00092506, 0.00087285, 0.00085831, 0.00085235, 0.00086117]), 'test_score': array([1.        , 0.93333333, 0.9       , 0.96666667, 0.9       ])}\n",
            "ExtraTreesClassifier の正解率 = \n",
            "{'fit_time': array([0.08895659, 0.09047747, 0.0899744 , 0.08957458, 0.08970499]), 'score_time': array([0.00855756, 0.00863862, 0.0084157 , 0.0084548 , 0.00851464]), 'test_score': array([0.96666667, 0.93333333, 0.96666667, 0.9       , 1.        ])}\n",
            "GaussianNB の正解率 = \n",
            "{'fit_time': array([0.00263381, 0.00178409, 0.00166845, 0.00181866, 0.00167108]), 'score_time': array([0.00215411, 0.00100923, 0.0009861 , 0.00099444, 0.00095963]), 'test_score': array([1.        , 0.93333333, 0.96666667, 0.96666667, 0.9       ])}\n",
            "GaussianProcessClassifier の正解率 = \n",
            "{'fit_time': array([0.03392434, 0.0337019 , 0.04425931, 0.03573585, 0.04633737]), 'score_time': array([0.00546765, 0.00547409, 0.00627756, 0.00558233, 0.00572038]), 'test_score': array([0.96666667, 0.93333333, 1.        , 0.96666667, 0.96666667])}\n",
            "GradientBoostingClassifier の正解率 = \n",
            "{'fit_time': array([0.19807291, 0.1923182 , 0.17271495, 0.17465925, 0.18568921]), 'score_time': array([0.00219679, 0.00157928, 0.00158095, 0.00163865, 0.00170588]), 'test_score': array([0.86666667, 1.        , 0.93333333, 0.93333333, 0.93333333])}\n",
            "HistGradientBoostingClassifier の正解率 = \n",
            "{'fit_time': array([0.12774348, 0.13372779, 0.12299895, 0.12443495, 0.12304664]), 'score_time': array([0.00550032, 0.00553823, 0.00567412, 0.00520134, 0.00527525]), 'test_score': array([0.96666667, 0.96666667, 0.93333333, 0.9       , 0.93333333])}\n",
            "KNeighborsClassifier の正解率 = \n",
            "{'fit_time': array([0.00191545, 0.00167537, 0.00165963, 0.00161839, 0.00163651]), 'score_time': array([0.00271797, 0.00263906, 0.00254178, 0.00253439, 0.00251222]), 'test_score': array([1.        , 1.        , 0.9       , 0.96666667, 1.        ])}\n",
            "LabelPropagation の正解率 = \n",
            "{'fit_time': array([0.006531  , 0.0068295 , 0.00673103, 0.00678158, 0.00688934]), 'score_time': array([0.00153422, 0.00151086, 0.00152016, 0.00153112, 0.00151491]), 'test_score': array([1.        , 0.9       , 1.        , 0.93333333, 0.93333333])}\n",
            "LabelSpreading の正解率 = \n",
            "{'fit_time': array([0.00637627, 0.00626922, 0.00756168, 0.00743651, 0.00780964]), 'score_time': array([0.00153065, 0.00157452, 0.00150228, 0.00158525, 0.00154519]), 'test_score': array([0.96666667, 0.96666667, 0.96666667, 0.96666667, 0.96666667])}\n",
            "LinearDiscriminantAnalysis の正解率 = \n",
            "{'fit_time': array([0.0024178 , 0.00724053, 0.00645757, 0.0071032 , 0.00220251]), 'score_time': array([0.00103164, 0.00106263, 0.00102925, 0.00103283, 0.00520921]), 'test_score': array([0.96666667, 0.96666667, 1.        , 1.        , 0.96666667])}\n",
            "LinearSVC の正解率 = \n",
            "{'fit_time': array([0.01909399, 0.03468275, 0.01667118, 0.01028824, 0.00994205]), 'score_time': array([0.00119615, 0.00156903, 0.00117874, 0.00104451, 0.0025661 ]), 'test_score': array([0.93333333, 0.96666667, 0.96666667, 1.        , 0.93333333])}\n",
            "LogisticRegression の正解率 = \n",
            "{'fit_time': array([0.03040504, 0.03671551, 0.02985668, 0.03000236, 0.03355193]), 'score_time': array([0.00122571, 0.00127006, 0.00125599, 0.00124645, 0.00124812]), 'test_score': array([1.        , 0.93333333, 0.93333333, 0.96666667, 0.96666667])}\n",
            "LogisticRegressionCV の正解率 = \n",
            "{'fit_time': array([0.93187022, 0.86184549, 0.77418494, 0.85908341, 0.76064634]), 'score_time': array([0.0012188 , 0.00121903, 0.00111318, 0.00116086, 0.00119996]), 'test_score': array([0.93333333, 0.96666667, 1.        , 0.96666667, 1.        ])}\n",
            "MLPClassifier の正解率 = \n",
            "{'fit_time': array([0.13289165, 0.13897753, 0.13279343, 0.12829542, 0.13124728]), 'score_time': array([0.00137019, 0.00146866, 0.00135255, 0.00132465, 0.00134802]), 'test_score': array([1.        , 0.93333333, 1.        , 0.96666667, 1.        ])}\n",
            "MultinomialNB の正解率 = \n",
            "{'fit_time': array([0.00259852, 0.00184298, 0.00178146, 0.00179005, 0.00176311]), 'score_time': array([0.00120807, 0.00091624, 0.00088453, 0.00088978, 0.00087094]), 'test_score': array([0.96666667, 0.66666667, 0.96666667, 0.63333333, 0.96666667])}\n",
            "NearestCentroid の正解率 = \n",
            "{'fit_time': array([0.00165367, 0.00170326, 0.00165248, 0.00166225, 0.0016613 ]), 'score_time': array([0.0013783 , 0.0011797 , 0.00115085, 0.00113654, 0.00114679]), 'test_score': array([0.96666667, 0.9       , 0.93333333, 0.86666667, 0.96666667])}\n",
            "NuSVC の正解率 = \n",
            "{'fit_time': array([0.00268316, 0.00207162, 0.00194764, 0.00199652, 0.0019722 ]), 'score_time': array([0.00094438, 0.0009203 , 0.00089645, 0.00091696, 0.0009017 ]), 'test_score': array([1.        , 0.96666667, 0.96666667, 1.        , 0.9       ])}\n",
            "PassiveAggressiveClassifier の正解率 = \n",
            "{'fit_time': array([0.00453186, 0.00327396, 0.0033679 , 0.00344896, 0.00314403]), 'score_time': array([0.00101423, 0.00092101, 0.00098658, 0.00086141, 0.00088596]), 'test_score': array([0.73333333, 0.86666667, 0.93333333, 0.93333333, 0.86666667])}\n",
            "Perceptron の正解率 = \n",
            "{'fit_time': array([0.00431633, 0.00529432, 0.00526285, 0.00348282, 0.00319433]), 'score_time': array([0.00149679, 0.00161576, 0.00096679, 0.00093007, 0.00088382]), 'test_score': array([0.96666667, 0.96666667, 0.76666667, 0.46666667, 0.8       ])}\n",
            "QuadraticDiscriminantAnalysis の正解率 = \n",
            "{'fit_time': array([0.0027554 , 0.00218272, 0.00158691, 0.0015974 , 0.00155497]), 'score_time': array([0.00132394, 0.00105238, 0.00101566, 0.00101757, 0.0010221 ]), 'test_score': array([1.        , 1.        , 0.93333333, 0.96666667, 1.        ])}\n",
            "RadiusNeighborsClassifier の正解率 = \n",
            "{'fit_time': array([0.00179458, 0.00141478, 0.00142622, 0.0013988 , 0.00141525]), 'score_time': array([0.00226641, 0.00150037, 0.00149441, 0.00147319, 0.00152421]), 'test_score': array([0.96666667, 0.93333333, 0.96666667, 0.93333333, 0.9       ])}\n",
            "RandomForestClassifier の正解率 = \n",
            "{'fit_time': array([0.13244987, 0.12324786, 0.12319636, 0.12327337, 0.1223402 ]), 'score_time': array([0.00863242, 0.01053357, 0.00822639, 0.00820637, 0.00829434]), 'test_score': array([0.93333333, 1.        , 0.96666667, 0.93333333, 0.93333333])}\n",
            "RidgeClassifier の正解率 = \n",
            "{'fit_time': array([0.00432038, 0.00287819, 0.002841  , 0.00289702, 0.00284123]), 'score_time': array([0.00092649, 0.00089502, 0.00089121, 0.00091338, 0.00093102]), 'test_score': array([0.86666667, 0.76666667, 0.9       , 0.86666667, 0.73333333])}\n",
            "RidgeClassifierCV の正解率 = \n",
            "{'fit_time': array([0.00421286, 0.0030067 , 0.00297809, 0.00297809, 0.00305676]), 'score_time': array([0.00093246, 0.00089645, 0.00088596, 0.00091672, 0.00090671]), 'test_score': array([0.86666667, 0.9       , 0.83333333, 0.73333333, 0.8       ])}\n",
            "SGDClassifier の正解率 = \n",
            "{'fit_time': array([0.00421286, 0.00298953, 0.00292969, 0.00289607, 0.00304556]), 'score_time': array([0.00084686, 0.00083518, 0.00083375, 0.00079775, 0.00083876]), 'test_score': array([0.96666667, 0.73333333, 0.66666667, 0.76666667, 0.66666667])}\n",
            "SVC の正解率 = \n",
            "{'fit_time': array([0.00234675, 0.00208402, 0.00161552, 0.00161362, 0.00167227]), 'score_time': array([0.00121927, 0.00088906, 0.00089669, 0.00089478, 0.00089622]), 'test_score': array([1.        , 0.96666667, 0.96666667, 0.93333333, 0.96666667])}\n"
          ],
          "name": "stdout"
        }
      ]
    },
    {
      "cell_type": "markdown",
      "metadata": {
        "id": "CX6YeFfXgO5m"
      },
      "source": [
        "## グリッドサーチで最適なパラメータを探し求める"
      ]
    },
    {
      "cell_type": "markdown",
      "metadata": {
        "id": "tG1Nwc_3gYH7"
      },
      "source": [
        "### ライブラリをimport"
      ]
    },
    {
      "cell_type": "code",
      "metadata": {
        "id": "EOWOdE2jf74H"
      },
      "source": [
        "# グリッドサーチのオブジェクトクラスをimport\n",
        "from sklearn.model_selection import GridSearchCV\n",
        "# SVCアルゴリズムの学習モデルをimport\n",
        "from sklearn.svm import SVC"
      ],
      "execution_count": 51,
      "outputs": []
    },
    {
      "cell_type": "markdown",
      "metadata": {
        "id": "hChUEi5JglXa"
      },
      "source": [
        "### グリッドサーチを実行してパラメータを試す"
      ]
    },
    {
      "cell_type": "code",
      "metadata": {
        "id": "v35f3BgRgpkx",
        "outputId": "69c5c1e2-d8cc-484f-c4f6-a6501e6c2dec",
        "colab": {
          "base_uri": "https://localhost:8080/"
        }
      },
      "source": [
        "# グリッドサーチで試すパラメータのパターン指定を定義する\n",
        "parameters = [\n",
        "              # 3つのパラメータ、3パターン\n",
        "              { \"C\":[1, 10, 100, 1000], \"kernel\":[\"linear\"] },\n",
        "              { \"C\":[1, 10, 100, 1000], \"kernel\":[\"rbf\"], \"gamma\":[0.001, 0.0001] },\n",
        "              { \"C\":[1, 10, 100, 1000], \"kernel\":[\"sigmoid\"], \"gamma\":[0.001, 0.0001] }\n",
        "]\n",
        "\n",
        "# 普通の学習\n",
        "clf_svc = SVC()\n",
        "clf_svc.fit(x_train, y_train)\n",
        "y_pred_svc = clf_svc.predict(x_test)\n",
        "print(\"普通の学習の正解率 = \", accuracy_score(y_test, y_pred))\n",
        "\n",
        "# グリッドサーチを行う\n",
        "# K分割交差検証用のインスタンスを生成する\n",
        "kfold_cv = KFold(n_splits=5, shuffle=True)\n",
        "# グリッドサーチの中でK分割交差検証も行われる\n",
        "clf_grid = GridSearchCV(SVC(), parameters, cv=kfold_cv) # インスタンス\n",
        "clf_grid.fit(x_train, y_train) # 学習\n",
        "# 学習済みモデルに最終的に設定された（最適と思われる）パラメータを表示\n",
        "print(\"最適なパラメータ = \", clf_grid.best_estimator_)\n",
        "\n",
        "# 最適なパラメータ設定済みの学習モデルで評価\n",
        "y_pred_grid = clf_grid.predict(x_test)\n",
        "print(\"グリッドサーチの正解率 = \", accuracy_score(y_test, y_pred))"
      ],
      "execution_count": 52,
      "outputs": [
        {
          "output_type": "stream",
          "text": [
            "普通の学習の正解率 =  0.9666666666666667\n",
            "最適なパラメータ =  SVC(C=1000, break_ties=False, cache_size=200, class_weight=None, coef0=0.0,\n",
            "    decision_function_shape='ovr', degree=3, gamma=0.001, kernel='rbf',\n",
            "    max_iter=-1, probability=False, random_state=None, shrinking=True,\n",
            "    tol=0.001, verbose=False)\n",
            "グリッドサーチの正解率 =  0.9666666666666667\n"
          ],
          "name": "stdout"
        }
      ]
    },
    {
      "cell_type": "markdown",
      "metadata": {
        "id": "1ae5HxpUo5pQ"
      },
      "source": [
        "## Numpyの動作確認"
      ]
    },
    {
      "cell_type": "code",
      "metadata": {
        "id": "yZU9ev2Bo87m"
      },
      "source": [
        "# import\n",
        "import numpy as np"
      ],
      "execution_count": 53,
      "outputs": []
    },
    {
      "cell_type": "code",
      "metadata": {
        "id": "AlHQoXqIpC07",
        "outputId": "2a914e3e-ba8a-47b2-c31c-78d9774519fc",
        "colab": {
          "base_uri": "https://localhost:8080/"
        }
      },
      "source": [
        "# numpy配列の初期化\n",
        "a = np.array([1, 2, 3, 4, 5]) # ndarrayというnumpy配列オブジェクトを生成\n",
        "print(a)\n",
        "# type関数で型を表示\n",
        "print(type(a))"
      ],
      "execution_count": 55,
      "outputs": [
        {
          "output_type": "stream",
          "text": [
            "[1 2 3 4 5]\n",
            "<class 'numpy.ndarray'>\n"
          ],
          "name": "stdout"
        }
      ]
    },
    {
      "cell_type": "code",
      "metadata": {
        "id": "ONs-aK5Iqjm2",
        "outputId": "da9734f8-d404-4168-8600-aa72a13cbaef",
        "colab": {
          "base_uri": "https://localhost:8080/"
        }
      },
      "source": [
        "# 2次元のndarrayを定義\n",
        "b = np.array([ [1, 2, 3], [4, 5, 6] ])\n",
        "print(b)"
      ],
      "execution_count": 58,
      "outputs": [
        {
          "output_type": "stream",
          "text": [
            "[[1 2 3]\n",
            " [4 5 6]]\n"
          ],
          "name": "stdout"
        }
      ]
    },
    {
      "cell_type": "code",
      "metadata": {
        "id": "PTuUChmDq2OO",
        "outputId": "e785577e-b44d-4cbd-e3f0-1ce7a76f61f6",
        "colab": {
          "base_uri": "https://localhost:8080/"
        }
      },
      "source": [
        "# 配列の要素数を指定して0埋めで初期化\n",
        "print(np.zeros(10))\n",
        "print(np.zeros((3, 2)))\n",
        "print(np.ones(2))"
      ],
      "execution_count": 62,
      "outputs": [
        {
          "output_type": "stream",
          "text": [
            "[0. 0. 0. 0. 0. 0. 0. 0. 0. 0.]\n",
            "[[0. 0.]\n",
            " [0. 0.]\n",
            " [0. 0.]]\n",
            "[1. 1.]\n"
          ],
          "name": "stdout"
        }
      ]
    },
    {
      "cell_type": "code",
      "metadata": {
        "id": "kYeWpXXsr-Vm",
        "outputId": "e2645520-0a8d-45a7-d15d-f55cea813976",
        "colab": {
          "base_uri": "https://localhost:8080/"
        }
      },
      "source": [
        "# 連番の配列を要素数を指定して初期化\n",
        "print(np.arange(5)) # 0から5未満\n",
        "print(np.arange(2, 9)) # 2から9未満\n",
        "print(np.arange(5, 8, 0.5)) # 5から8未満、0.5刻み"
      ],
      "execution_count": 68,
      "outputs": [
        {
          "output_type": "stream",
          "text": [
            "[0 1 2 3 4]\n",
            "[2 3 4 5 6 7 8]\n",
            "[5.  5.5 6.  6.5 7.  7.5]\n"
          ],
          "name": "stdout"
        }
      ]
    },
    {
      "cell_type": "markdown",
      "metadata": {
        "id": "F_DvNrx4vDBK"
      },
      "source": [
        "### numpyで行列計算"
      ]
    },
    {
      "cell_type": "code",
      "metadata": {
        "id": "3tKrakHsuT3Z",
        "outputId": "d3f0c33e-2cea-41df-b16a-699137aa4ead",
        "colab": {
          "base_uri": "https://localhost:8080/"
        }
      },
      "source": [
        "a = np.array([1, 2, 3, 4, 5])\n",
        "b = a * 2 # 全ての要素を一度に2倍\n",
        "print(b)\n",
        "x = np.arange(10)\n",
        "print(x)\n",
        "y = x * 3 + 5 # 全ての要素に一度に四則演算\n",
        "print(y)"
      ],
      "execution_count": 77,
      "outputs": [
        {
          "output_type": "stream",
          "text": [
            "[ 2  4  6  8 10]\n",
            "[0 1 2 3 4 5 6 7 8 9]\n",
            "[ 5  8 11 14 17 20 23 26 29 32]\n"
          ],
          "name": "stdout"
        }
      ]
    },
    {
      "cell_type": "code",
      "metadata": {
        "id": "lPacxco6vKv2",
        "outputId": "ee33eb73-2f3a-486d-cee9-7ed9df7eabd2",
        "colab": {
          "base_uri": "https://localhost:8080/"
        }
      },
      "source": [
        "# 配列の次元数を表示\n",
        "a = np.array([ [1, 2, 3], [4, 5, 6] ])\n",
        "print(\"配列：aの中身と次元数\")\n",
        "print(a)\n",
        "print(a.shape)\n",
        "print()\n",
        "\n",
        "print(\"配列：bの中身と次元数\")\n",
        "b = np.array([ [1, 2, 3], [4, 5, 6], [7, 8, 9] ])\n",
        "print(b)\n",
        "print(b.shape)"
      ],
      "execution_count": 82,
      "outputs": [
        {
          "output_type": "stream",
          "text": [
            "配列：aの中身と次元数\n",
            "[[1 2 3]\n",
            " [4 5 6]]\n",
            "(2, 3)\n",
            "\n",
            "配列：bの中身と次元数\n",
            "[[1 2 3]\n",
            " [4 5 6]\n",
            " [7 8 9]]\n",
            "(3, 3)\n"
          ],
          "name": "stdout"
        }
      ]
    },
    {
      "cell_type": "code",
      "metadata": {
        "id": "iSCQ1Hepv9QZ",
        "outputId": "720da06d-1030-4c4f-a6b2-3582ba6ed5a0",
        "colab": {
          "base_uri": "https://localhost:8080/"
        }
      },
      "source": [
        "# Numpy配列で次元数を変換する\n",
        "a = np.array([ [1, 2, 3], [4, 5, 6] ])\n",
        "print(\"a = \", a)\n",
        "print()\n",
        "\n",
        "b = a.flatten() # フラットにする（1次元配列にする）\n",
        "print(\"b = \", b)\n",
        "print()\n",
        "\n",
        "a = np.array([ [1, 2, 3], [4, 5, 6] ]) # 2行3列\n",
        "print(a)\n",
        "print()\n",
        "\n",
        "b = a.reshape(3, 2) # 3行2列に変換（回転）させる\n",
        "print(b)"
      ],
      "execution_count": 90,
      "outputs": [
        {
          "output_type": "stream",
          "text": [
            "a =  [[1 2 3]\n",
            " [4 5 6]]\n",
            "\n",
            "b =  [1 2 3 4 5 6]\n",
            "\n",
            "[[1 2 3]\n",
            " [4 5 6]]\n",
            "\n",
            "[[1 2]\n",
            " [3 4]\n",
            " [5 6]]\n"
          ],
          "name": "stdout"
        }
      ]
    },
    {
      "cell_type": "markdown",
      "metadata": {
        "id": "1pHeWUykxaV_"
      },
      "source": [
        "### numpyの配列にアクセスする方法"
      ]
    },
    {
      "cell_type": "code",
      "metadata": {
        "id": "o9lJnxtnwlnb",
        "outputId": "3270353f-fbdf-4d21-d5ec-d331d8728545",
        "colab": {
          "base_uri": "https://localhost:8080/"
        }
      },
      "source": [
        "v = np.array([ [1, 2, 3], [4, 5, 6], [7, 8, 9] ])\n",
        "a = v[0]\n",
        "print(a) # 2次元配列の0行目\n",
        "print()\n",
        "\n",
        "b = v[1:]\n",
        "print(b) # 1行目以降\n",
        "print()\n",
        "\n",
        "c = v[:, 0]\n",
        "print(c) # 全ての行の0列目"
      ],
      "execution_count": 99,
      "outputs": [
        {
          "output_type": "stream",
          "text": [
            "[1 2 3]\n",
            "\n",
            "[[4 5 6]\n",
            " [7 8 9]]\n",
            "\n",
            "[1 4 7]\n"
          ],
          "name": "stdout"
        }
      ]
    }
  ]
}